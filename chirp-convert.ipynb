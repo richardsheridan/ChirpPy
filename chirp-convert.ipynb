{
 "cells": [
  {
   "cell_type": "markdown",
   "id": "b3b61c80",
   "metadata": {},
   "source": [
    "# TRIOS chirp converter\n",
    "\n",
    "OWCh data is best exported from TRIOS as an excel file, with at least the columns \"Stress\", \"Strain\", and \"Temperature\". This notebook uses `pandas` and `xlrd` to transform the raw `xls` output into a `parquet` file containing only the columns and labels we need for FAST loading and analysis later."
   ]
  },
  {
   "cell_type": "code",
   "execution_count": null,
   "id": "51d8be58",
   "metadata": {},
   "outputs": [],
   "source": [
    "import pathlib\n",
    "from ipywidgets import SelectMultiple, interact, Layout\n",
    "\n",
    "# Location of the data files.\n",
    "folder = pathlib.Path(\"data\").resolve(strict=True)\n",
    "\n",
    "print(\"Selected folder: \\n\", folder)\n",
    "all_excel_files = [\n",
    "    (x.name, x) for x in folder.iterdir() if x.suffix in (\".xls\", \".xlsx\")\n",
    "]\n",
    "\n",
    "filenames = []\n",
    "\n",
    "\n",
    "# This bit of vodoo shows a selection box in the page with all the files in the above folder\n",
    "# To pick the files, highlight them in any order. Personally I like click-drag selection.\n",
    "@interact\n",
    "def populate_filenames(\n",
    "    x=SelectMultiple(\n",
    "        options=all_excel_files,\n",
    "        index=tuple(\n",
    "            range(len(all_excel_files))\n",
    "        ),  # this magick selects all available files by default\n",
    "        description=\"Available files\",\n",
    "        layout=Layout(width=\"auto\"),\n",
    "        rows=20,  # number of rows visible in the box\n",
    "    )\n",
    "):\n",
    "    global filenames\n",
    "    filenames = sorted(x)"
   ]
  },
  {
   "cell_type": "code",
   "execution_count": null,
   "id": "03bf02cd",
   "metadata": {},
   "outputs": [],
   "source": [
    "import pandas as pd\n",
    "import numpy as np\n",
    "\n",
    "idx = pd.IndexSlice\n",
    "\n",
    "assert filenames\n",
    "for filename in filenames:\n",
    "    print(filename)\n",
    "    # we must not parse the \"details\" sheet, so we cannot use the simpler pd.read_excel\n",
    "    xlfile = pd.ExcelFile(filename)\n",
    "    waves_df = (\n",
    "        pd.concat(\n",
    "            xlfile.parse(\n",
    "                # Parse only sheets with names given to our chirp data steps\n",
    "                [\n",
    "                    name\n",
    "                    for name in xlfile.sheet_names\n",
    "                    if name.startswith(\"Arbitrary Wave\")\n",
    "                ],\n",
    "                header=[0, 1, 2],\n",
    "                dtype=\"f4\",\n",
    "            ).values(),\n",
    "            axis=\"columns\",\n",
    "            join=\"inner\",  # rarely, sheets can have uneven rows\n",
    "        )\n",
    "        .loc[\n",
    "            pd.IndexSlice[:],\n",
    "            pd.IndexSlice[:, (\"Strain\", \"Stress\", \"Temperature\", \"Time\"), :],\n",
    "        ]\n",
    "        .rename(columns=lambda n: n.split()[-1], level=0)\n",
    "    )\n",
    "    assert not np.any(np.isnan(waves_df.values))\n",
    "    waves_df.columns = waves_df.columns.droplevel(2)\n",
    "    display(waves_df.describe())\n",
    "    waves_df.to_parquet(\n",
    "        filename.with_suffix(\".parquetzstd\"),\n",
    "        compression=\"zstd\",\n",
    "    )"
   ]
  }
 ],
 "metadata": {
  "kernelspec": {
   "display_name": "Python 3 (ipykernel)",
   "language": "python",
   "name": "python3"
  },
  "language_info": {
   "codemirror_mode": {
    "name": "ipython",
    "version": 3
   },
   "file_extension": ".py",
   "mimetype": "text/x-python",
   "name": "python",
   "nbconvert_exporter": "python",
   "pygments_lexer": "ipython3",
   "version": "3.11.5"
  }
 },
 "nbformat": 4,
 "nbformat_minor": 5
}
